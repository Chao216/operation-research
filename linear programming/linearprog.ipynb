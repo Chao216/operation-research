{
 "cells": [
  {
   "cell_type": "code",
   "execution_count": 1,
   "id": "7b84cf21",
   "metadata": {},
   "outputs": [],
   "source": [
    "import numpy as np\n",
    "import scipy as sp"
   ]
  },
  {
   "cell_type": "code",
   "execution_count": 2,
   "id": "f633ae4b",
   "metadata": {},
   "outputs": [
    {
     "name": "stdout",
     "output_type": "stream",
     "text": [
      "1.9.1\n"
     ]
    }
   ],
   "source": [
    "print(sp.__version__)"
   ]
  },
  {
   "cell_type": "markdown",
   "id": "87168492",
   "metadata": {},
   "source": [
    "## solve linear programming problems with scipy"
   ]
  },
  {
   "cell_type": "markdown",
   "id": "07761978",
   "metadata": {},
   "source": [
    "official example"
   ]
  },
  {
   "cell_type": "code",
   "execution_count": 4,
   "id": "f8250c7d",
   "metadata": {},
   "outputs": [
    {
     "name": "stdout",
     "output_type": "stream",
     "text": [
      "The problem is infeasible. (HiGHS Status 8: model_status is Infeasible; primal_status is b'At lower/fixed bound')\n"
     ]
    }
   ],
   "source": [
    "import numpy as np\n",
    "from scipy.optimize import linprog\n",
    "c = np.array([-29.0, -45.0, 0.0, 0.0])\n",
    "A_ub = np.array([[1.0, -1.0, -3.0, 0.0],\n",
    "                [-2.0, 3.0, 7.0, -3.0]])\n",
    "b_ub = np.array([5.0, -10.0])\n",
    "A_eq = np.array([[2.0, 8.0, 1.0, 0.0],\n",
    "                [4.0, 4.0, 0.0, 1.0]])\n",
    "b_eq = np.array([60.0, 60.0])\n",
    "x0_bounds = (0, None)\n",
    "x1_bounds = (0, 5.0)\n",
    "x2_bounds = (-np.inf, 0.5)  # +/- np.inf can be used instead of None\n",
    "x3_bounds = (-3.0, None)\n",
    "bounds = [x0_bounds, x1_bounds, x2_bounds, x3_bounds]\n",
    "result = linprog(c, A_ub=A_ub, b_ub=b_ub, A_eq=A_eq, b_eq=b_eq, bounds=bounds)\n",
    "print(result.message)\n"
   ]
  },
  {
   "cell_type": "code",
   "execution_count": 7,
   "id": "8164f9e7",
   "metadata": {},
   "outputs": [
    {
     "name": "stdout",
     "output_type": "stream",
     "text": [
      "           con: array([], dtype=float64)\n",
      " crossover_nit: 0\n",
      "         eqlin:  marginals: array([], dtype=float64)\n",
      "  residual: array([], dtype=float64)\n",
      "           fun: -92.5\n",
      "       ineqlin:  marginals: array([ -0.  ,  -1.25, -12.5 ])\n",
      "  residual: array([7.5, 0. , 0. ])\n",
      "         lower:  marginals: array([0., 0.])\n",
      "  residual: array([3.5, 1.5])\n",
      "       message: 'Optimization terminated successfully. (HiGHS Status 7: Optimal)'\n",
      "           nit: 2\n",
      "         slack: array([7.5, 0. , 0. ])\n",
      "        status: 0\n",
      "       success: True\n",
      "         upper:  marginals: array([0., 0.])\n",
      "  residual: array([inf, inf])\n",
      "             x: array([3.5, 1.5])\n"
     ]
    }
   ],
   "source": [
    "import numpy as np\n",
    "from scipy.optimize import linprog\n",
    "\n",
    "c = np.array([-20,-15])\n",
    "\n",
    "A_ub = np.array([[0,5],\n",
    "                [6,2],\n",
    "                [1,1]])\n",
    "\n",
    "b_ub = np.array([15,24,5])\n",
    "\n",
    "x0_bounds = (0, None)\n",
    "\n",
    "x1_bounds = (0,None)\n",
    "\n",
    "bounds = [x0_bounds, x1_bounds]\n",
    "\n",
    "result = linprog(c,A_ub = A_ub, b_ub = b_ub, bounds = bounds)\n",
    "\n",
    "print(result)"
   ]
  },
  {
   "cell_type": "code",
   "execution_count": 8,
   "id": "4be4a5f9",
   "metadata": {},
   "outputs": [
    {
     "name": "stdout",
     "output_type": "stream",
     "text": [
      "           con: array([], dtype=float64)\n",
      " crossover_nit: 0\n",
      "         eqlin:  marginals: array([], dtype=float64)\n",
      "  residual: array([], dtype=float64)\n",
      "           fun: -8.25\n",
      "       ineqlin:  marginals: array([-0.08333333, -0.29166667])\n",
      "  residual: array([0., 0.])\n",
      "         lower:  marginals: array([0., 0.])\n",
      "  residual: array([3.75, 0.75])\n",
      "       message: 'Optimization terminated successfully. (HiGHS Status 7: Optimal)'\n",
      "           nit: 2\n",
      "         slack: array([0., 0.])\n",
      "        status: 0\n",
      "       success: True\n",
      "         upper:  marginals: array([0., 0.])\n",
      "  residual: array([inf, inf])\n",
      "             x: array([3.75, 0.75])\n"
     ]
    }
   ],
   "source": [
    "import numpy as np\n",
    "from scipy.optimize import linprog\n",
    "\n",
    "c = np.array([-2, -1])\n",
    "\n",
    "A_ub = np.array([[3,5],\n",
    "                [6,2]])\n",
    "\n",
    "b_ub = np.array([15,24])\n",
    "\n",
    "x0_bounds = (0,None)\n",
    "x1_bounds = (0,None)\n",
    "bounds = [x0_bounds,x1_bounds]\n",
    "\n",
    "\n",
    "result = linprog(c,A_ub = A_ub, b_ub = b_ub, bounds = bounds)\n",
    "\n",
    "print(result)"
   ]
  },
  {
   "cell_type": "code",
   "execution_count": null,
   "id": "fd26900d",
   "metadata": {},
   "outputs": [],
   "source": []
  }
 ],
 "metadata": {
  "kernelspec": {
   "display_name": "Python 3 (ipykernel)",
   "language": "python",
   "name": "python3"
  },
  "language_info": {
   "codemirror_mode": {
    "name": "ipython",
    "version": 3
   },
   "file_extension": ".py",
   "mimetype": "text/x-python",
   "name": "python",
   "nbconvert_exporter": "python",
   "pygments_lexer": "ipython3",
   "version": "3.9.13"
  }
 },
 "nbformat": 4,
 "nbformat_minor": 5
}
